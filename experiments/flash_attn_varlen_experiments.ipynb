{
 "cells": [
  {
   "cell_type": "code",
   "execution_count": 1,
   "id": "034a292e-26b1-4e3d-aea2-8f9a23316e04",
   "metadata": {},
   "outputs": [],
   "source": [
    "import flash_attn\n",
    "import torch\n",
    "import torch.nn.functional as F\n",
    "from einops import rearrange"
   ]
  },
  {
   "cell_type": "markdown",
   "id": "0889513a-0cb8-4e46-9338-3df8d0ad745d",
   "metadata": {},
   "source": [
    "# Without mask ✅"
   ]
  },
  {
   "cell_type": "code",
   "execution_count": 2,
   "id": "8d07dabc-57d8-4dd1-977b-edb2178fa016",
   "metadata": {},
   "outputs": [],
   "source": [
    "batch, n_heads, seq_len, d_head = 1,1,2,2\n",
    "inputs = torch.randn(batch, n_heads, seq_len, d_head, dtype=torch.float16, device=\"cuda\")\n",
    "\n",
    "query = rearrange(\n",
    "    inputs, \"batch n_heads seq_len d_head -> (batch seq_len) n_heads d_head\"\n",
    ")\n",
    "key = rearrange(\n",
    "    inputs, \"batch n_heads seq_len d_head -> (batch seq_len) n_heads d_head\"\n",
    ")\n",
    "value = rearrange(\n",
    "    inputs, \"batch n_heads seq_len d_head -> (batch seq_len) n_heads d_head\"\n",
    ")"
   ]
  },
  {
   "cell_type": "code",
   "execution_count": 3,
   "id": "f92533bb-833b-4063-bb67-9699e541e377",
   "metadata": {},
   "outputs": [
    {
     "data": {
      "text/plain": [
       "tensor([[[[-0.1075,  2.6523],\n",
       "          [-0.6958,  2.2676]]]], device='cuda:0', dtype=torch.float16)"
      ]
     },
     "execution_count": 3,
     "metadata": {},
     "output_type": "execute_result"
    }
   ],
   "source": [
    "F.scaled_dot_product_attention(query=inputs, key=inputs, value=inputs)"
   ]
  },
  {
   "cell_type": "code",
   "execution_count": 4,
   "id": "4f698996-f6f5-4105-8c1b-854c5d5287f4",
   "metadata": {},
   "outputs": [
    {
     "data": {
      "text/plain": [
       "tensor([[[-0.1075,  2.6523]],\n",
       "\n",
       "        [[-0.6958,  2.2676]]], device='cuda:0', dtype=torch.float16)"
      ]
     },
     "execution_count": 4,
     "metadata": {},
     "output_type": "execute_result"
    }
   ],
   "source": [
    "cu_seqlens = torch.tensor([0,2], dtype=torch.int32, device=\"cuda\")\n",
    "max_seqlen = 2\n",
    "\n",
    "flash_attn.flash_attn_varlen_func(\n",
    "    query,\n",
    "    key,\n",
    "    value,\n",
    "    cu_seqlens_q=cu_seqlens,\n",
    "    cu_seqlens_k=cu_seqlens,\n",
    "    max_seqlen_q=max_seqlen,\n",
    "    max_seqlen_k=max_seqlen,\n",
    ")"
   ]
  },
  {
   "cell_type": "markdown",
   "id": "47935c95-caf4-444c-a94f-0421cd84aa71",
   "metadata": {},
   "source": [
    "# With mask"
   ]
  },
  {
   "cell_type": "code",
   "execution_count": 42,
   "id": "00ec2f0e-09e7-4c6f-b450-fe5179587fba",
   "metadata": {},
   "outputs": [],
   "source": [
    "batch, n_heads, seq_len, d_head = 1,8,3,2\n",
    "inputs = torch.randn(batch, n_heads, seq_len, d_head, dtype=torch.float16, device=\"cuda\")\n",
    "\n",
    "query = rearrange(\n",
    "    inputs, \"batch n_heads seq_len d_head -> (seq_len batch) n_heads d_head\"\n",
    ")\n",
    "key = rearrange(\n",
    "    inputs, \"batch n_heads seq_len d_head -> (batch seq_len) n_heads d_head\"\n",
    ")\n",
    "value = rearrange(\n",
    "    inputs, \"batch n_heads seq_len d_head -> (seq_len batch) n_heads d_head\"\n",
    ")"
   ]
  },
  {
   "cell_type": "code",
   "execution_count": 43,
   "id": "82216bf7-9d63-4cb2-9897-e11a3031da96",
   "metadata": {},
   "outputs": [
    {
     "data": {
      "text/plain": [
       "tensor([[[[ 0.7280,  0.5229],\n",
       "          [ 0.2413, -1.3203],\n",
       "          [-1.2139, -0.8760]],\n",
       "\n",
       "         [[-0.3494,  0.0082],\n",
       "          [-1.7969,  0.1509],\n",
       "          [-0.0773,  0.4136]],\n",
       "\n",
       "         [[-0.2147,  2.4062],\n",
       "          [ 0.5996, -1.8535],\n",
       "          [ 1.0215, -0.4619]],\n",
       "\n",
       "         [[-0.0689,  0.2925],\n",
       "          [ 0.9292,  1.3545],\n",
       "          [-0.0526, -0.9819]],\n",
       "\n",
       "         [[-2.0996, -0.9917],\n",
       "          [-2.4336, -0.9766],\n",
       "          [ 1.4688, -0.3450]],\n",
       "\n",
       "         [[-1.3271, -0.4514],\n",
       "          [-0.6494, -0.3589],\n",
       "          [-0.6704, -1.6143]],\n",
       "\n",
       "         [[-0.0991,  0.1261],\n",
       "          [ 0.6064,  0.1158],\n",
       "          [-0.7236,  0.2693]],\n",
       "\n",
       "         [[ 1.2568, -0.8354],\n",
       "          [ 0.8306, -0.1301],\n",
       "          [ 0.3018, -0.3230]]]], device='cuda:0', dtype=torch.float16)"
      ]
     },
     "execution_count": 43,
     "metadata": {},
     "output_type": "execute_result"
    }
   ],
   "source": [
    "inputs"
   ]
  },
  {
   "cell_type": "code",
   "execution_count": 44,
   "id": "fc6218bb-e61d-4181-b2ae-fe00841afb59",
   "metadata": {},
   "outputs": [
    {
     "data": {
      "text/plain": [
       "tensor([[[[ 0.7280,  0.5229],\n",
       "          [-0.1418, -0.9766],\n",
       "          [ 0.3259, -1.0000]],\n",
       "\n",
       "         [[-0.3494,  0.0082],\n",
       "          [-1.4629,  0.1572],\n",
       "          [-1.1172,  0.0839]],\n",
       "\n",
       "         [[-0.2147,  2.4062],\n",
       "          [ 0.6660, -1.6191],\n",
       "          [ 0.5010, -1.3369]],\n",
       "\n",
       "         [[-0.0689,  0.2925],\n",
       "          [ 0.7344,  1.0889],\n",
       "          [ 0.2461,  0.6279]],\n",
       "\n",
       "         [[-2.0996, -0.9917],\n",
       "          [-2.3105, -0.9819],\n",
       "          [-2.2383, -0.9854]],\n",
       "\n",
       "         [[-1.3271, -0.4514],\n",
       "          [-0.9072, -0.8535],\n",
       "          [-1.0596, -0.4148]],\n",
       "\n",
       "         [[-0.0991,  0.1261],\n",
       "          [ 0.0513,  0.1571],\n",
       "          [ 0.1904,  0.1219]],\n",
       "\n",
       "         [[ 1.2568, -0.8354],\n",
       "          [ 0.8911, -0.4863],\n",
       "          [ 1.0703, -0.5269]]]], device='cuda:0', dtype=torch.float16)"
      ]
     },
     "execution_count": 44,
     "metadata": {},
     "output_type": "execute_result"
    }
   ],
   "source": [
    "attention_mask = torch.tensor([[True, False, False], [True, True, True], [True, True, False]], device=\"cuda\")\n",
    "F.scaled_dot_product_attention(query=inputs, key=inputs, value=inputs, attn_mask=attention_mask)"
   ]
  },
  {
   "cell_type": "code",
   "execution_count": 45,
   "id": "d603478b-a665-4257-9243-6be6687ec37b",
   "metadata": {},
   "outputs": [
    {
     "data": {
      "text/plain": [
       "tensor([[[ 0.7280,  0.5229],\n",
       "         [-0.3494,  0.0082],\n",
       "         [-0.2147,  2.4062],\n",
       "         [-0.0689,  0.2925],\n",
       "         [-2.0996, -0.9917],\n",
       "         [-1.3271, -0.4514],\n",
       "         [-0.0991,  0.1261],\n",
       "         [ 1.2568, -0.8354]],\n",
       "\n",
       "        [[-0.2139, -0.9868],\n",
       "         [-1.4854,  0.1635],\n",
       "         [ 0.6318, -1.5400],\n",
       "         [ 0.7690,  1.0791],\n",
       "         [-2.4121, -0.9688],\n",
       "         [-0.5156, -0.8481],\n",
       "         [ 0.0823,  0.1155],\n",
       "         [ 0.4487, -0.1577]],\n",
       "\n",
       "        [[-0.7095, -0.8687],\n",
       "         [-0.6572,  0.1956],\n",
       "         [ 0.6680, -1.0166],\n",
       "         [ 0.0734, -0.4270],\n",
       "         [ 1.1631, -0.2988],\n",
       "         [-0.6094, -1.2568],\n",
       "         [-0.1981,  0.1519],\n",
       "         [ 0.4050, -0.1572]]], device='cuda:0', dtype=torch.float16)"
      ]
     },
     "execution_count": 45,
     "metadata": {},
     "output_type": "execute_result"
    }
   ],
   "source": [
    "cu_seqlens_q = torch.tensor([0, 1, 4, 6], dtype=torch.int32, device=\"cuda\")\n",
    "cu_seqlens_k = torch.tensor([0, 1, 4, 6], dtype=torch.int32, device=\"cuda\")\n",
    "max_seqlen = 3\n",
    "\n",
    "flash_attn.flash_attn_varlen_func(\n",
    "    query,\n",
    "    key,\n",
    "    value,\n",
    "    cu_seqlens_q=cu_seqlens_q,\n",
    "    cu_seqlens_k=cu_seqlens_k,\n",
    "    max_seqlen_q=max_seqlen,\n",
    "    max_seqlen_k=max_seqlen,\n",
    ")"
   ]
  },
  {
   "cell_type": "markdown",
   "id": "e055d47f-7927-4a84-970b-321e7f08099e",
   "metadata": {},
   "source": [
    "# Another example"
   ]
  },
  {
   "cell_type": "code",
   "execution_count": 20,
   "id": "e7f431fb-e49f-47b8-abc5-154b8203fd49",
   "metadata": {},
   "outputs": [
    {
     "data": {
      "text/plain": [
       "tensor([[[[-1.1211],\n",
       "          [-0.7690],\n",
       "          [ 0.5044],\n",
       "          [ 1.0645],\n",
       "          [ 0.1743]]],\n",
       "\n",
       "\n",
       "        [[[ 1.4844],\n",
       "          [ 0.8862],\n",
       "          [ 0.8584],\n",
       "          [ 0.5596],\n",
       "          [-2.2617]]],\n",
       "\n",
       "\n",
       "        [[[ 0.7026],\n",
       "          [ 0.2722],\n",
       "          [ 1.6641],\n",
       "          [-0.1707],\n",
       "          [ 0.8115]]]], device='cuda:0', dtype=torch.float16)"
      ]
     },
     "execution_count": 20,
     "metadata": {},
     "output_type": "execute_result"
    }
   ],
   "source": [
    "batch, n_heads, seq_len, d_head = 3,1,5,1\n",
    "inputs = torch.randn(batch, n_heads, seq_len, d_head, dtype=torch.float16, device=\"cuda\")\n",
    "inputs"
   ]
  },
  {
   "cell_type": "code",
   "execution_count": 32,
   "id": "9d0b1bdd-b095-4c12-9a5a-a7cf2ce91206",
   "metadata": {},
   "outputs": [],
   "source": [
    "attention_mask1 = torch.tensor([\n",
    "    [1,1,1,0,0],\n",
    "    [1,1,0,0,0],\n",
    "    [1,1,1,1,1],\n",
    "],device=\"cuda\", dtype=torch.bool)\n",
    "attention_mask1 = rearrange(\n",
    "    attention_mask1, \"batch seq_len -> batch 1 seq_len 1\"\n",
    ")"
   ]
  },
  {
   "cell_type": "code",
   "execution_count": 33,
   "id": "ed582b8f-537d-4eb3-b6c4-8f2e2cfe7d04",
   "metadata": {},
   "outputs": [],
   "source": [
    "attention_mask2 = torch.tensor([\n",
    "    [[1,1,1,0,0], [1,1,1,0,0], [1,1,1,0,0], [1,1,1,0,0], [1,1,1,0,0]],\n",
    "    [[1,1,0,0,0], [1,1,0,0,0], [1,1,0,0,0], [1,1,0,0,0], [1,1,0,0,0]],\n",
    "    [[1,1,1,1,1], [1,1,1,1,1], [1,1,1,1,1], [1,1,1,1,1], [1,1,1,1,1]]\n",
    "],device=\"cuda\", dtype=torch.bool).unsqueeze(1)"
   ]
  },
  {
   "cell_type": "code",
   "execution_count": 34,
   "id": "e6098faa-a9a7-430a-bc58-169c6c19b8f3",
   "metadata": {},
   "outputs": [],
   "source": [
    "attention_mask3 = torch.tensor([\n",
    "    [[1,1,1,0,0], [1,1,1,0,0], [1,1,1,0,0], [0,0,0,0,0], [0,0,0,0,0]],\n",
    "    [[1,1,0,0,0], [1,1,0,0,0], [0,0,0,0,0], [0,0,0,0,0], [0,0,0,0,0]],\n",
    "    [[1,1,1,1,1], [1,1,1,1,1], [1,1,1,1,1], [1,1,1,1,1], [1,1,1,1,1]]\n",
    "],device=\"cuda\", dtype=torch.bool).unsqueeze(1)"
   ]
  },
  {
   "cell_type": "code",
   "execution_count": 35,
   "id": "9444c169-4824-49ae-a473-e9f5cfa465c4",
   "metadata": {},
   "outputs": [
    {
     "data": {
      "text/plain": [
       "tensor([[[[-0.6611],\n",
       "          [-0.4995],\n",
       "          [ 0.2817],\n",
       "          [    nan],\n",
       "          [    nan]]],\n",
       "\n",
       "\n",
       "        [[[ 1.1250],\n",
       "          [ 1.0088],\n",
       "          [    nan],\n",
       "          [    nan],\n",
       "          [    nan]]],\n",
       "\n",
       "\n",
       "        [[[ 0.9307],\n",
       "          [ 0.7607],\n",
       "          [ 1.2715],\n",
       "          [ 0.5933],\n",
       "          [ 0.9736]]]], device='cuda:0', dtype=torch.float16)"
      ]
     },
     "execution_count": 35,
     "metadata": {},
     "output_type": "execute_result"
    }
   ],
   "source": [
    "F.scaled_dot_product_attention(query=inputs, key=inputs, value=inputs, attn_mask=attention_mask1)"
   ]
  },
  {
   "cell_type": "code",
   "execution_count": 36,
   "id": "09b8ac9c-c5ce-4a3a-a52a-100c8e887a03",
   "metadata": {},
   "outputs": [
    {
     "data": {
      "text/plain": [
       "tensor([[[[-0.8486],\n",
       "          [-0.7627],\n",
       "          [-0.2006],\n",
       "          [ 0.0750],\n",
       "          [-0.3743]]],\n",
       "\n",
       "\n",
       "        [[[ 1.3096],\n",
       "          [ 1.2627],\n",
       "          [ 1.2598],\n",
       "          [ 1.2354],\n",
       "          [ 1.0088]]],\n",
       "\n",
       "\n",
       "        [[[ 0.9307],\n",
       "          [ 0.7607],\n",
       "          [ 1.2715],\n",
       "          [ 0.5933],\n",
       "          [ 0.9736]]]], device='cuda:0', dtype=torch.float16)"
      ]
     },
     "execution_count": 36,
     "metadata": {},
     "output_type": "execute_result"
    }
   ],
   "source": [
    "F.scaled_dot_product_attention(query=inputs, key=inputs, value=inputs, attn_mask=attention_mask2)"
   ]
  },
  {
   "cell_type": "code",
   "execution_count": 37,
   "id": "9bace4c1-1af7-445d-94da-987f68909946",
   "metadata": {},
   "outputs": [
    {
     "data": {
      "text/plain": [
       "tensor([[[[-0.8486],\n",
       "          [-0.7627],\n",
       "          [-0.2006],\n",
       "          [    nan],\n",
       "          [    nan]]],\n",
       "\n",
       "\n",
       "        [[[ 1.3096],\n",
       "          [ 1.2627],\n",
       "          [    nan],\n",
       "          [    nan],\n",
       "          [    nan]]],\n",
       "\n",
       "\n",
       "        [[[ 0.9307],\n",
       "          [ 0.7607],\n",
       "          [ 1.2715],\n",
       "          [ 0.5933],\n",
       "          [ 0.9736]]]], device='cuda:0', dtype=torch.float16)"
      ]
     },
     "execution_count": 37,
     "metadata": {},
     "output_type": "execute_result"
    }
   ],
   "source": [
    "F.scaled_dot_product_attention(query=inputs, key=inputs, value=inputs, attn_mask=attention_mask3)"
   ]
  },
  {
   "cell_type": "code",
   "execution_count": 38,
   "id": "faeab127-7b23-4ca5-9065-0ce3b8d34754",
   "metadata": {},
   "outputs": [],
   "source": [
    "query = rearrange(\n",
    "    inputs, \"batch n_heads seq_len d_head -> (batch seq_len) n_heads d_head\"\n",
    ")\n",
    "key = rearrange(\n",
    "    inputs, \"batch n_heads seq_len d_head -> (batch seq_len) n_heads d_head\"\n",
    ")\n",
    "value = rearrange(\n",
    "    inputs, \"batch n_heads seq_len d_head -> (batch seq_len) n_heads d_head\"\n",
    ")"
   ]
  },
  {
   "cell_type": "code",
   "execution_count": 44,
   "id": "49901e8e-2357-4170-91f5-413e0e3653a7",
   "metadata": {},
   "outputs": [
    {
     "data": {
      "text/plain": [
       "tensor([[[-0.8486]],\n",
       "\n",
       "        [[-0.7627]],\n",
       "\n",
       "        [[-0.2002]],\n",
       "\n",
       "        [[ 0.8159]],\n",
       "\n",
       "        [[ 0.6538]],\n",
       "\n",
       "        [[ 1.1250]],\n",
       "\n",
       "        [[ 1.0088]],\n",
       "\n",
       "        [[ 1.0010]],\n",
       "\n",
       "        [[ 0.8853]],\n",
       "\n",
       "        [[-2.2500]],\n",
       "\n",
       "        [[ 0.0000]],\n",
       "\n",
       "        [[ 0.0000]],\n",
       "\n",
       "        [[ 0.0000]],\n",
       "\n",
       "        [[ 0.0000]],\n",
       "\n",
       "        [[ 0.0000]]], device='cuda:0', dtype=torch.float16)"
      ]
     },
     "execution_count": 44,
     "metadata": {},
     "output_type": "execute_result"
    }
   ],
   "source": [
    "# indices=[ 0,  1,  2,  5,  6, 10, 11, 12, 13, 14]\n",
    "cu_seqlens_q = torch.tensor([ 0, 3, 5, 10], dtype=torch.int32, device=\"cuda\")\n",
    "cu_seqlens_k = torch.tensor([ 0, 3, 5, 10], dtype=torch.int32, device=\"cuda\")\n",
    "max_seqlen_in_batch = 5\n",
    "\n",
    "flash_attn.flash_attn_varlen_func(\n",
    "    q=query,\n",
    "    k=key,\n",
    "    v=value,\n",
    "    cu_seqlens_q=cu_seqlens_q,\n",
    "    cu_seqlens_k=cu_seqlens_k,\n",
    "    max_seqlen_q=max_seqlen_in_batch,\n",
    "    max_seqlen_k=max_seqlen_in_batch,\n",
    ")"
   ]
  },
  {
   "cell_type": "code",
   "execution_count": null,
   "id": "1bf2c6e7-3494-4bfc-9bb0-7964ec9b1fb1",
   "metadata": {},
   "outputs": [],
   "source": []
  }
 ],
 "metadata": {
  "kernelspec": {
   "display_name": "Python 3 (ipykernel)",
   "language": "python",
   "name": "python3"
  },
  "language_info": {
   "codemirror_mode": {
    "name": "ipython",
    "version": 3
   },
   "file_extension": ".py",
   "mimetype": "text/x-python",
   "name": "python",
   "nbconvert_exporter": "python",
   "pygments_lexer": "ipython3",
   "version": "3.11.10"
  }
 },
 "nbformat": 4,
 "nbformat_minor": 5
}
