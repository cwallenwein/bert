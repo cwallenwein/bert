{
 "cells": [
  {
   "cell_type": "code",
   "execution_count": 1,
   "metadata": {
    "collapsed": true,
    "ExecuteTime": {
     "end_time": "2024-07-11T14:06:59.917559Z",
     "start_time": "2024-07-11T13:28:08.128885Z"
    }
   },
   "outputs": [
    {
     "name": "stderr",
     "output_type": "stream",
     "text": [
      "/opt/homebrew/Caskroom/miniconda/base/envs/bert/lib/python3.12/site-packages/huggingface_hub/file_download.py:1132: FutureWarning: `resume_download` is deprecated and will be removed in version 1.0.0. Downloads always resume when possible. If you want to force a new download, use `force_download=True`.\n",
      "  warnings.warn(\n",
      "Avg loss:  8.2749 (MLM:  7.5772, NSP:  0.6976): 100%|██████████| 9000/9000 [24:49<00:00,  6.04 batches/s]     \n",
      "Avg loss:  8.1140 (MLM:  7.4219, NSP:  0.6921): 100%|██████████| 1000/1000 [13:03<00:00,  1.28 batches/s]     \n"
     ]
    }
   ],
   "source": [
    "from trainer import TrainerForPreTraining\n",
    "from trainer.arguments import TrainingArguments\n",
    "from model import BertModelForPretraining\n",
    "from model.config import BertConfig\n",
    "\n",
    "config = BertConfig(\n",
    "    d_model=32,\n",
    "    n_layers=2,\n",
    "    context_length=512,\n",
    "    n_heads=4\n",
    ")\n",
    "\n",
    "model = BertModelForPretraining(config)\n",
    "model.bert.initialize_weights()\n",
    "\n",
    "training_args = TrainingArguments(batch_size=10, learning_rate=10e-4)\n",
    "trainer = TrainerForPreTraining(model, training_args, verbose=False)\n",
    "trainer.train(training_steps=9_000, context_length=128)\n",
    "trainer.train(training_steps=1_000, context_length=512)"
   ]
  }
 ],
 "metadata": {
  "kernelspec": {
   "display_name": "Python 3",
   "language": "python",
   "name": "python3"
  },
  "language_info": {
   "codemirror_mode": {
    "name": "ipython",
    "version": 2
   },
   "file_extension": ".py",
   "mimetype": "text/x-python",
   "name": "python",
   "nbconvert_exporter": "python",
   "pygments_lexer": "ipython2",
   "version": "2.7.6"
  }
 },
 "nbformat": 4,
 "nbformat_minor": 0
}
