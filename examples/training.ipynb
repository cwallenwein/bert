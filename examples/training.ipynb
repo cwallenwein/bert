{
 "cells": [
  {
   "cell_type": "code",
   "execution_count": 1,
   "metadata": {
    "collapsed": true,
    "ExecuteTime": {
     "end_time": "2024-07-16T20:36:06.694114Z",
     "start_time": "2024-07-16T20:35:50.920811Z"
    }
   },
   "outputs": [
    {
     "name": "stderr",
     "output_type": "stream",
     "text": [
      "/opt/homebrew/Caskroom/miniconda/base/envs/bert/lib/python3.12/site-packages/huggingface_hub/file_download.py:1132: FutureWarning: `resume_download` is deprecated and will be removed in version 1.0.0. Downloads always resume when possible. If you want to force a new download, use `force_download=True`.\n",
      "  warnings.warn(\n"
     ]
    },
    {
     "name": "stdout",
     "output_type": "stream",
     "text": [
      "0\n"
     ]
    },
    {
     "name": "stderr",
     "output_type": "stream",
     "text": [
      "Avg loss:  9.0020 (MLM:  8.3129, NSP:  0.6891): 100%|██████████| 90/90 [00:06<00:00, 13.26 steps/s]       \n"
     ]
    },
    {
     "name": "stdout",
     "output_type": "stream",
     "text": [
      "Saved training state to /Users/cwallenwein/Code/bert/experiments/test_run/checkpoint.pt\n",
      "0\n"
     ]
    },
    {
     "name": "stderr",
     "output_type": "stream",
     "text": [
      "Avg loss:  8.8185 (MLM:  8.1258, NSP:  0.6927): 100%|██████████| 10/10 [00:04<00:00,  2.44 steps/s]     "
     ]
    },
    {
     "name": "stdout",
     "output_type": "stream",
     "text": [
      "Saved training state to /Users/cwallenwein/Code/bert/experiments/test_run/checkpoint.pt\n"
     ]
    },
    {
     "name": "stderr",
     "output_type": "stream",
     "text": [
      "\n"
     ]
    }
   ],
   "source": [
    "from trainer import TrainerForPreTraining\n",
    "from trainer.arguments import TrainingArguments\n",
    "from model import BertModelForPretraining\n",
    "from model.config import BertConfig\n",
    "\n",
    "config = BertConfig(\n",
    "    d_model=32,\n",
    "    n_layers=2,\n",
    "    context_length=512,\n",
    "    n_heads=4\n",
    ")\n",
    "\n",
    "model = BertModelForPretraining(config)\n",
    "model.bert.initialize_weights()\n",
    "\n",
    "training_args = TrainingArguments(batch_size=10, learning_rate=10e-4)\n",
    "trainer = TrainerForPreTraining(model, training_args, verbose=False)\n",
    "trainer.train(training_steps=90, context_length=128, dataset_name=\"800M_tokens\", experiment_name=\"test_run\")\n",
    "trainer.train(training_steps=10, context_length=512, dataset_name=\"800M_tokens\", experiment_name=\"test_run\")"
   ]
  },
  {
   "cell_type": "code",
   "execution_count": 1,
   "outputs": [],
   "source": [],
   "metadata": {
    "collapsed": false,
    "ExecuteTime": {
     "end_time": "2024-07-16T20:35:28.199388Z",
     "start_time": "2024-07-16T20:35:28.198070Z"
    }
   }
  }
 ],
 "metadata": {
  "kernelspec": {
   "display_name": "Python 3",
   "language": "python",
   "name": "python3"
  },
  "language_info": {
   "codemirror_mode": {
    "name": "ipython",
    "version": 2
   },
   "file_extension": ".py",
   "mimetype": "text/x-python",
   "name": "python",
   "nbconvert_exporter": "python",
   "pygments_lexer": "ipython2",
   "version": "2.7.6"
  }
 },
 "nbformat": 4,
 "nbformat_minor": 0
}
